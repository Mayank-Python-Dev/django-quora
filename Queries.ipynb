{
 "cells": [
  {
   "cell_type": "code",
   "execution_count": 31,
   "id": "7c5c6f9f-86c5-4eaa-a877-774f46d7b735",
   "metadata": {},
   "outputs": [],
   "source": [
    "import os\n",
    "import django\n",
    "os.environ.setdefault('DJANGO_SETTINGS_MODULE', 'djangoQuora.settings')\n",
    "os.environ[\"DJANGO_ALLOW_ASYNC_UNSAFE\"] = \"true\"\n",
    "django.setup()"
   ]
  },
  {
   "cell_type": "code",
   "execution_count": 32,
   "id": "deaf6c5a-f385-4dd2-bba3-9831f7f9001f",
   "metadata": {},
   "outputs": [],
   "source": [
    "from core.models import Question, Answer"
   ]
  },
  {
   "cell_type": "code",
   "execution_count": 33,
   "id": "38c0e2b9-507e-4ca3-a49f-8469cafab20d",
   "metadata": {},
   "outputs": [],
   "source": [
    "from django.db.models import (\n",
    "    Count,\n",
    "    OuterRef\n",
    ")"
   ]
  },
  {
   "cell_type": "code",
   "execution_count": 40,
   "id": "02f5917f-b8a1-4eca-b58f-1ba63e5b24d4",
   "metadata": {},
   "outputs": [
    {
     "data": {
      "text/plain": [
       "<QuerySet [{'uid': UUID('7003f097-b3ff-48e9-bb40-ec38a5a952ac'), 'author__username': 'Jonshore', 'question': \"You just can't stop! You feel the need to spread your spam on Quora no matter how inappropriate it is. No one here is going to buy your shit and no one is going to do business with a spammer and plagiarizer. You are just going to be reported and banned.\", 'number_of_answers': 2}]>"
      ]
     },
     "execution_count": 40,
     "metadata": {},
     "output_type": "execute_result"
    }
   ],
   "source": [
    "# numbers of answers\n",
    "\n",
    "Question.objects.values(\n",
    "    \"uid\",\"author__username\",\"question\"\n",
    ").annotate(\n",
    "    number_of_answers = Answer.objects.filter(\n",
    "        question__uid = OuterRef(\"uid\")\n",
    "    ).values(\n",
    "        \"question__uid\"\n",
    "    ).annotate(\n",
    "        number_of_answers = Count(\"question__uid\")\n",
    "    ).values(\n",
    "        \"number_of_answers\"\n",
    "    ))"
   ]
  },
  {
   "cell_type": "code",
   "execution_count": 91,
   "id": "0dd85af2-36ed-4304-93e8-9fa3fc8da9a8",
   "metadata": {},
   "outputs": [
    {
     "data": {
      "text/plain": [
       "<QuerySet [{'uid': UUID('7003f097-b3ff-48e9-bb40-ec38a5a952ac'), 'author__username': 'Jonshore', 'question': \"You just can't stop! You feel the need to spread your spam on Quora no matter how inappropriate it is. No one here is going to buy your shit and no one is going to do business with a spammer and plagiarizer. You are just going to be reported and banned.\", 'number_of_answers': 2}]>"
      ]
     },
     "execution_count": 91,
     "metadata": {},
     "output_type": "execute_result"
    }
   ],
   "source": [
    "# numbers of answers and number of likes on each comment\n",
    "\n",
    "Question.objects.values(\n",
    "    \"uid\",\"author__username\",\"question\"\n",
    ").annotate(\n",
    "    number_of_answers = Answer.objects.filter(\n",
    "        question__uid = OuterRef(\"uid\")\n",
    "    ).values(\n",
    "        \"question__uid\"\n",
    "    ).annotate(\n",
    "        number_of_answers = Count(\"question__uid\")\n",
    "    ).values(\n",
    "        \"number_of_answers\",\n",
    "    ))"
   ]
  },
  {
   "cell_type": "code",
   "execution_count": 65,
   "id": "27c459f6-ef66-4eb4-b908-6f952cca5899",
   "metadata": {},
   "outputs": [],
   "source": [
    "# Answer.objects.values(\n",
    "#     \"question__uid\"\n",
    "# ).annotate(Answer.objects.filter(question__uid = \"7003f097-b3ff-48e9-bb40-ec38a5a952ac\"))"
   ]
  },
  {
   "cell_type": "code",
   "execution_count": 86,
   "id": "854b607a-aa0b-4be5-8305-57620e4de5b3",
   "metadata": {},
   "outputs": [
    {
     "data": {
      "text/plain": [
       "<QuerySet [{'question__uid': UUID('7003f097-b3ff-48e9-bb40-ec38a5a952ac'), 'number_of_likes': 2}, {'question__uid': UUID('7003f097-b3ff-48e9-bb40-ec38a5a952ac'), 'number_of_likes': 2}]>"
      ]
     },
     "execution_count": 86,
     "metadata": {},
     "output_type": "execute_result"
    }
   ],
   "source": [
    "Answer.objects.filter(\n",
    "    question__uid = \"7003f097-b3ff-48e9-bb40-ec38a5a952ac\"\n",
    ").values(\n",
    "    \"question__uid\",number_of_likes = Max(\"likes\")\n",
    ")"
   ]
  },
  {
   "cell_type": "code",
   "execution_count": null,
   "id": "66968113-51c8-464d-ac5b-6b417447f6f9",
   "metadata": {},
   "outputs": [],
   "source": []
  }
 ],
 "metadata": {
  "kernelspec": {
   "display_name": "Django Shell-Plus",
   "language": "python",
   "name": "django_extensions"
  },
  "language_info": {
   "codemirror_mode": {
    "name": "ipython",
    "version": 3
   },
   "file_extension": ".py",
   "mimetype": "text/x-python",
   "name": "python",
   "nbconvert_exporter": "python",
   "pygments_lexer": "ipython3",
   "version": "3.8.10"
  }
 },
 "nbformat": 4,
 "nbformat_minor": 5
}
